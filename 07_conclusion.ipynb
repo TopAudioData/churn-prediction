{
 "cells": [
  {
   "cell_type": "markdown",
   "metadata": {},
   "source": [
    "- feature importance der modelle vergleichen\n",
    "- in notebooks mehr beschreiben\n",
    "- XGBoost?? catboostclassifier?\n",
    "- Scores innerhalb von 05 besser erklären/ interpretieren/ wie zufrieden mit dem Wert?\n",
    "- Regularisieren von LogReg"
   ]
  }
 ],
 "metadata": {
  "language_info": {
   "name": "python"
  }
 },
 "nbformat": 4,
 "nbformat_minor": 2
}
