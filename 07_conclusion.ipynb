{
 "cells": [
  {
   "cell_type": "markdown",
   "metadata": {},
   "source": [
    "- feature importance der modelle vergleichen\n",
    "- in notebooks mehr beschreiben\n",
    "- XGBoost?? catboostclassifier?\n",
    "- Scores innerhalb von 05 besser erklären/ interpretieren/ wie zufrieden mit dem Wert?\n",
    "- Regularisieren von LogReg"
   ]
  },
  {
   "cell_type": "markdown",
   "metadata": {},
   "source": [
    "# To Do (from data cleaning)\n",
    "\n",
    "### features to be further examined:\n",
    "- 'feedback' group by positive and negative feedback\n",
    "\n",
    "Next steps/second iteration:\n",
    "- https://annahava.medium.com/too-many-categories-how-to-deal-with-categorical-features-of-high-cardinality-d4563cfe62d6\n",
    "- https://www.datacamp.com/tutorial/categorical-data"
   ]
  },
  {
   "cell_type": "markdown",
   "metadata": {},
   "source": [
    "explain threshold and scores from Logist Regression"
   ]
  }
 ],
 "metadata": {
  "language_info": {
   "name": "python"
  }
 },
 "nbformat": 4,
 "nbformat_minor": 2
}
