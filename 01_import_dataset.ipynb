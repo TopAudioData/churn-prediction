{
 "cells": [
  {
   "cell_type": "markdown",
   "metadata": {},
   "source": [
    "# Import Dataset and preliminary description"
   ]
  },
  {
   "cell_type": "code",
   "execution_count": 74,
   "metadata": {},
   "outputs": [],
   "source": [
    "import numpy as np\n",
    "import pandas as pd\n",
    "from sklearn.preprocessing import OrdinalEncoder\n",
    "import seaborn as sns\n",
    "import matplotlib.pyplot as plt"
   ]
  },
  {
   "cell_type": "code",
   "execution_count": 75,
   "metadata": {},
   "outputs": [
    {
     "data": {
      "text/html": [
       "<div>\n",
       "<style scoped>\n",
       "    .dataframe tbody tr th:only-of-type {\n",
       "        vertical-align: middle;\n",
       "    }\n",
       "\n",
       "    .dataframe tbody tr th {\n",
       "        vertical-align: top;\n",
       "    }\n",
       "\n",
       "    .dataframe thead th {\n",
       "        text-align: right;\n",
       "    }\n",
       "</style>\n",
       "<table border=\"1\" class=\"dataframe\">\n",
       "  <thead>\n",
       "    <tr style=\"text-align: right;\">\n",
       "      <th></th>\n",
       "      <th>Unnamed: 0</th>\n",
       "      <th>age</th>\n",
       "      <th>gender</th>\n",
       "      <th>security_no</th>\n",
       "      <th>region_category</th>\n",
       "      <th>membership_category</th>\n",
       "      <th>joining_date</th>\n",
       "      <th>joined_through_referral</th>\n",
       "      <th>referral_id</th>\n",
       "      <th>preferred_offer_types</th>\n",
       "      <th>...</th>\n",
       "      <th>avg_time_spent</th>\n",
       "      <th>avg_transaction_value</th>\n",
       "      <th>avg_frequency_login_days</th>\n",
       "      <th>points_in_wallet</th>\n",
       "      <th>used_special_discount</th>\n",
       "      <th>offer_application_preference</th>\n",
       "      <th>past_complaint</th>\n",
       "      <th>complaint_status</th>\n",
       "      <th>feedback</th>\n",
       "      <th>churn_risk_score</th>\n",
       "    </tr>\n",
       "  </thead>\n",
       "  <tbody>\n",
       "    <tr>\n",
       "      <th>0</th>\n",
       "      <td>0</td>\n",
       "      <td>18</td>\n",
       "      <td>F</td>\n",
       "      <td>XW0DQ7H</td>\n",
       "      <td>Village</td>\n",
       "      <td>Platinum Membership</td>\n",
       "      <td>2017-08-17</td>\n",
       "      <td>No</td>\n",
       "      <td>xxxxxxxx</td>\n",
       "      <td>Gift Vouchers/Coupons</td>\n",
       "      <td>...</td>\n",
       "      <td>300.63</td>\n",
       "      <td>53005.25</td>\n",
       "      <td>17.0</td>\n",
       "      <td>781.75</td>\n",
       "      <td>Yes</td>\n",
       "      <td>Yes</td>\n",
       "      <td>No</td>\n",
       "      <td>Not Applicable</td>\n",
       "      <td>Products always in Stock</td>\n",
       "      <td>0</td>\n",
       "    </tr>\n",
       "    <tr>\n",
       "      <th>1</th>\n",
       "      <td>1</td>\n",
       "      <td>32</td>\n",
       "      <td>F</td>\n",
       "      <td>5K0N3X1</td>\n",
       "      <td>City</td>\n",
       "      <td>Premium Membership</td>\n",
       "      <td>2017-08-28</td>\n",
       "      <td>?</td>\n",
       "      <td>CID21329</td>\n",
       "      <td>Gift Vouchers/Coupons</td>\n",
       "      <td>...</td>\n",
       "      <td>306.34</td>\n",
       "      <td>12838.38</td>\n",
       "      <td>10.0</td>\n",
       "      <td>NaN</td>\n",
       "      <td>Yes</td>\n",
       "      <td>No</td>\n",
       "      <td>Yes</td>\n",
       "      <td>Solved</td>\n",
       "      <td>Quality Customer Care</td>\n",
       "      <td>0</td>\n",
       "    </tr>\n",
       "    <tr>\n",
       "      <th>2</th>\n",
       "      <td>2</td>\n",
       "      <td>44</td>\n",
       "      <td>F</td>\n",
       "      <td>1F2TCL3</td>\n",
       "      <td>Town</td>\n",
       "      <td>No Membership</td>\n",
       "      <td>2016-11-11</td>\n",
       "      <td>Yes</td>\n",
       "      <td>CID12313</td>\n",
       "      <td>Gift Vouchers/Coupons</td>\n",
       "      <td>...</td>\n",
       "      <td>516.16</td>\n",
       "      <td>21027.00</td>\n",
       "      <td>22.0</td>\n",
       "      <td>500.69</td>\n",
       "      <td>No</td>\n",
       "      <td>Yes</td>\n",
       "      <td>Yes</td>\n",
       "      <td>Solved in Follow-up</td>\n",
       "      <td>Poor Website</td>\n",
       "      <td>1</td>\n",
       "    </tr>\n",
       "    <tr>\n",
       "      <th>3</th>\n",
       "      <td>3</td>\n",
       "      <td>37</td>\n",
       "      <td>M</td>\n",
       "      <td>VJGJ33N</td>\n",
       "      <td>City</td>\n",
       "      <td>No Membership</td>\n",
       "      <td>2016-10-29</td>\n",
       "      <td>Yes</td>\n",
       "      <td>CID3793</td>\n",
       "      <td>Gift Vouchers/Coupons</td>\n",
       "      <td>...</td>\n",
       "      <td>53.27</td>\n",
       "      <td>25239.56</td>\n",
       "      <td>6.0</td>\n",
       "      <td>567.66</td>\n",
       "      <td>No</td>\n",
       "      <td>Yes</td>\n",
       "      <td>Yes</td>\n",
       "      <td>Unsolved</td>\n",
       "      <td>Poor Website</td>\n",
       "      <td>1</td>\n",
       "    </tr>\n",
       "    <tr>\n",
       "      <th>4</th>\n",
       "      <td>4</td>\n",
       "      <td>31</td>\n",
       "      <td>F</td>\n",
       "      <td>SVZXCWB</td>\n",
       "      <td>City</td>\n",
       "      <td>No Membership</td>\n",
       "      <td>2017-09-12</td>\n",
       "      <td>No</td>\n",
       "      <td>xxxxxxxx</td>\n",
       "      <td>Credit/Debit Card Offers</td>\n",
       "      <td>...</td>\n",
       "      <td>113.13</td>\n",
       "      <td>24483.66</td>\n",
       "      <td>16.0</td>\n",
       "      <td>663.06</td>\n",
       "      <td>No</td>\n",
       "      <td>Yes</td>\n",
       "      <td>Yes</td>\n",
       "      <td>Solved</td>\n",
       "      <td>Poor Website</td>\n",
       "      <td>1</td>\n",
       "    </tr>\n",
       "  </tbody>\n",
       "</table>\n",
       "<p>5 rows × 24 columns</p>\n",
       "</div>"
      ],
      "text/plain": [
       "   Unnamed: 0  age gender security_no region_category  membership_category  \\\n",
       "0           0   18      F     XW0DQ7H         Village  Platinum Membership   \n",
       "1           1   32      F     5K0N3X1            City   Premium Membership   \n",
       "2           2   44      F     1F2TCL3            Town        No Membership   \n",
       "3           3   37      M     VJGJ33N            City        No Membership   \n",
       "4           4   31      F     SVZXCWB            City        No Membership   \n",
       "\n",
       "  joining_date joined_through_referral referral_id     preferred_offer_types  \\\n",
       "0   2017-08-17                      No    xxxxxxxx     Gift Vouchers/Coupons   \n",
       "1   2017-08-28                       ?    CID21329     Gift Vouchers/Coupons   \n",
       "2   2016-11-11                     Yes    CID12313     Gift Vouchers/Coupons   \n",
       "3   2016-10-29                     Yes     CID3793     Gift Vouchers/Coupons   \n",
       "4   2017-09-12                      No    xxxxxxxx  Credit/Debit Card Offers   \n",
       "\n",
       "   ... avg_time_spent avg_transaction_value avg_frequency_login_days  \\\n",
       "0  ...         300.63              53005.25                     17.0   \n",
       "1  ...         306.34              12838.38                     10.0   \n",
       "2  ...         516.16              21027.00                     22.0   \n",
       "3  ...          53.27              25239.56                      6.0   \n",
       "4  ...         113.13              24483.66                     16.0   \n",
       "\n",
       "   points_in_wallet  used_special_discount  offer_application_preference  \\\n",
       "0            781.75                    Yes                           Yes   \n",
       "1               NaN                    Yes                            No   \n",
       "2            500.69                     No                           Yes   \n",
       "3            567.66                     No                           Yes   \n",
       "4            663.06                     No                           Yes   \n",
       "\n",
       "  past_complaint     complaint_status                  feedback  \\\n",
       "0             No       Not Applicable  Products always in Stock   \n",
       "1            Yes               Solved     Quality Customer Care   \n",
       "2            Yes  Solved in Follow-up              Poor Website   \n",
       "3            Yes             Unsolved              Poor Website   \n",
       "4            Yes               Solved              Poor Website   \n",
       "\n",
       "  churn_risk_score  \n",
       "0                0  \n",
       "1                0  \n",
       "2                1  \n",
       "3                1  \n",
       "4                1  \n",
       "\n",
       "[5 rows x 24 columns]"
      ]
     },
     "execution_count": 75,
     "metadata": {},
     "output_type": "execute_result"
    }
   ],
   "source": [
    "df = pd.read_csv('data/churn.csv')\n",
    "df.head(5)"
   ]
  },
  {
   "cell_type": "code",
   "execution_count": 76,
   "metadata": {},
   "outputs": [
    {
     "name": "stdout",
     "output_type": "stream",
     "text": [
      "<class 'pandas.core.frame.DataFrame'>\n",
      "RangeIndex: 36992 entries, 0 to 36991\n",
      "Data columns (total 24 columns):\n",
      " #   Column                        Non-Null Count  Dtype  \n",
      "---  ------                        --------------  -----  \n",
      " 0   Unnamed: 0                    36992 non-null  int64  \n",
      " 1   age                           36992 non-null  int64  \n",
      " 2   gender                        36992 non-null  object \n",
      " 3   security_no                   36992 non-null  object \n",
      " 4   region_category               31564 non-null  object \n",
      " 5   membership_category           36992 non-null  object \n",
      " 6   joining_date                  36992 non-null  object \n",
      " 7   joined_through_referral       36992 non-null  object \n",
      " 8   referral_id                   36992 non-null  object \n",
      " 9   preferred_offer_types         36704 non-null  object \n",
      " 10  medium_of_operation           36992 non-null  object \n",
      " 11  internet_option               36992 non-null  object \n",
      " 12  last_visit_time               36992 non-null  object \n",
      " 13  days_since_last_login         36992 non-null  int64  \n",
      " 14  avg_time_spent                36992 non-null  float64\n",
      " 15  avg_transaction_value         36992 non-null  float64\n",
      " 16  avg_frequency_login_days      36992 non-null  object \n",
      " 17  points_in_wallet              33549 non-null  float64\n",
      " 18  used_special_discount         36992 non-null  object \n",
      " 19  offer_application_preference  36992 non-null  object \n",
      " 20  past_complaint                36992 non-null  object \n",
      " 21  complaint_status              36992 non-null  object \n",
      " 22  feedback                      36992 non-null  object \n",
      " 23  churn_risk_score              36992 non-null  int64  \n",
      "dtypes: float64(3), int64(4), object(17)\n",
      "memory usage: 6.8+ MB\n"
     ]
    }
   ],
   "source": [
    "df.info()"
   ]
  },
  {
   "cell_type": "markdown",
   "metadata": {},
   "source": [
    "The dataset includes 22 variables and 1 target (churn_risk_score). There are up to 36992 observations with some missing values for specific variables, e.g. region_category."
   ]
  },
  {
   "cell_type": "code",
   "execution_count": 77,
   "metadata": {},
   "outputs": [
    {
     "data": {
      "text/plain": [
       "Unnamed: 0                      36992\n",
       "age                                55\n",
       "gender                              3\n",
       "security_no                     36992\n",
       "region_category                     3\n",
       "membership_category                 6\n",
       "joining_date                     1096\n",
       "joined_through_referral             3\n",
       "referral_id                     11359\n",
       "preferred_offer_types               3\n",
       "medium_of_operation                 4\n",
       "internet_option                     3\n",
       "last_visit_time                 30101\n",
       "days_since_last_login              27\n",
       "avg_time_spent                  25961\n",
       "avg_transaction_value           36894\n",
       "avg_frequency_login_days         1654\n",
       "points_in_wallet                23699\n",
       "used_special_discount               2\n",
       "offer_application_preference        2\n",
       "past_complaint                      2\n",
       "complaint_status                    5\n",
       "feedback                            9\n",
       "churn_risk_score                    2\n",
       "dtype: int64"
      ]
     },
     "execution_count": 77,
     "metadata": {},
     "output_type": "execute_result"
    }
   ],
   "source": [
    "df.nunique()"
   ]
  },
  {
   "cell_type": "code",
   "execution_count": 78,
   "metadata": {},
   "outputs": [
    {
     "name": "stdout",
     "output_type": "stream",
     "text": [
      "There are 0 duplicates.\n"
     ]
    }
   ],
   "source": [
    "# check for duplicates\n",
    "duplicates = df.duplicated().sum()\n",
    "print(f\"There are {duplicates} duplicates.\")"
   ]
  },
  {
   "cell_type": "markdown",
   "metadata": {},
   "source": [
    "## Examination of the different variables"
   ]
  },
  {
   "cell_type": "code",
   "execution_count": 79,
   "metadata": {},
   "outputs": [
    {
     "name": "stdout",
     "output_type": "stream",
     "text": [
      "count    36992.000000\n",
      "mean     18495.500000\n",
      "std      10678.814916\n",
      "min          0.000000\n",
      "25%       9247.750000\n",
      "50%      18495.500000\n",
      "75%      27743.250000\n",
      "max      36991.000000\n",
      "Name: Unnamed: 0, dtype: float64\n"
     ]
    }
   ],
   "source": [
    "print(df['Unnamed: 0'].describe())\n",
    "df.drop(['Unnamed: 0'], axis=1, inplace=True)"
   ]
  },
  {
   "cell_type": "markdown",
   "metadata": {},
   "source": [
    "We drop 'Unnamed: 0' since it's just a index number that should not have any predictive power."
   ]
  },
  {
   "cell_type": "code",
   "execution_count": 80,
   "metadata": {},
   "outputs": [
    {
     "name": "stdout",
     "output_type": "stream",
     "text": [
      "[18 32 44 37 31 13 21 42 45 25 60 11 34 40 16 57 39 33 30 19 48 43 29 10\n",
      " 20 61 17 12 52 26 49 24 22 36 58 41 50 23 38 35 28 53 55 59 47 54 62 51\n",
      " 56 27 14 46 15 64 63]\n"
     ]
    },
    {
     "data": {
      "text/plain": [
       "count    36992.000000\n",
       "mean        37.118161\n",
       "std         15.867412\n",
       "min         10.000000\n",
       "25%         23.000000\n",
       "50%         37.000000\n",
       "75%         51.000000\n",
       "max         64.000000\n",
       "Name: age, dtype: float64"
      ]
     },
     "execution_count": 80,
     "metadata": {},
     "output_type": "execute_result"
    }
   ],
   "source": [
    "print(df['age'].unique())\n",
    "df['age'].describe()"
   ]
  },
  {
   "cell_type": "markdown",
   "metadata": {},
   "source": [
    "'age' ranges from 10 to 64. Ten year olds seem a little bit, however, given that there are no additional information about the product we keep them. Since there are only numerical values, no transforming is neccessary."
   ]
  },
  {
   "cell_type": "code",
   "execution_count": 81,
   "metadata": {},
   "outputs": [
    {
     "name": "stdout",
     "output_type": "stream",
     "text": [
      "['F' 'M' 'Unknown']\n"
     ]
    },
    {
     "data": {
      "text/plain": [
       "count     36992\n",
       "unique        3\n",
       "top           F\n",
       "freq      18490\n",
       "Name: gender, dtype: object"
      ]
     },
     "execution_count": 81,
     "metadata": {},
     "output_type": "execute_result"
    }
   ],
   "source": [
    "print(df['gender'].unique())\n",
    "# convert to category\n",
    "df['gender'] = df['gender'].astype('category')\n",
    "df['gender'].describe()"
   ]
  },
  {
   "cell_type": "markdown",
   "metadata": {},
   "source": [
    "For 'gender' there are 3 values: 'F', 'M', and 'Unknown'. Since this is a categorical variable, we transform the values to categorical."
   ]
  },
  {
   "cell_type": "code",
   "execution_count": 82,
   "metadata": {},
   "outputs": [
    {
     "name": "stdout",
     "output_type": "stream",
     "text": [
      "count       36992\n",
      "unique      36992\n",
      "top       XW0DQ7H\n",
      "freq            1\n",
      "Name: security_no, dtype: object\n"
     ]
    }
   ],
   "source": [
    "print(df['security_no'].describe())\n",
    "df.drop(['security_no'], axis=1, inplace=True)"
   ]
  },
  {
   "cell_type": "markdown",
   "metadata": {},
   "source": [
    "We drop 'security_no' since it's a random number that should not have any predictive power."
   ]
  },
  {
   "cell_type": "code",
   "execution_count": 83,
   "metadata": {},
   "outputs": [
    {
     "name": "stdout",
     "output_type": "stream",
     "text": [
      "['Village' 'City' 'Town' nan]\n",
      "5428\n",
      "0.14673442906574394\n"
     ]
    },
    {
     "data": {
      "text/plain": [
       "count     31564\n",
       "unique        3\n",
       "top        Town\n",
       "freq      14128\n",
       "Name: region_category, dtype: object"
      ]
     },
     "execution_count": 83,
     "metadata": {},
     "output_type": "execute_result"
    }
   ],
   "source": [
    "print(df['region_category'].unique())\n",
    "print(df['region_category'].isna().sum())\n",
    "print(df['region_category'].isna().sum()/ df['region_category'].isna().count())\n",
    "df['region_category'] = df['region_category'].astype('category')\n",
    "df['region_category'].describe()"
   ]
  },
  {
   "cell_type": "markdown",
   "metadata": {},
   "source": [
    "'region_category' has three unique values: 'Village', 'City', 'Town' and 5428 missing values (14.67%). We convert it to a categorical variable."
   ]
  },
  {
   "cell_type": "code",
   "execution_count": 84,
   "metadata": {},
   "outputs": [
    {
     "name": "stdout",
     "output_type": "stream",
     "text": [
      "count                36992\n",
      "unique                   6\n",
      "top       Basic Membership\n",
      "freq                  7724\n",
      "Name: membership_category, dtype: object\n",
      "['Platinum Membership' 'Premium Membership' 'No Membership'\n",
      " 'Gold Membership' 'Silver Membership' 'Basic Membership']\n"
     ]
    }
   ],
   "source": [
    "print(df['membership_category'].describe())\n",
    "print(df['membership_category'].unique())"
   ]
  },
  {
   "cell_type": "markdown",
   "metadata": {},
   "source": [
    "'membership_category' will be ordinally encoded after train test split. We argue that there is a ranking order between the membership categories. From least value to most value: 'No Membership' up to 'Premium Membership'."
   ]
  },
  {
   "cell_type": "code",
   "execution_count": 85,
   "metadata": {},
   "outputs": [
    {
     "name": "stdout",
     "output_type": "stream",
     "text": [
      "<class 'pandas.core.frame.DataFrame'>\n",
      "RangeIndex: 36992 entries, 0 to 36991\n",
      "Data columns (total 22 columns):\n",
      " #   Column                        Non-Null Count  Dtype   \n",
      "---  ------                        --------------  -----   \n",
      " 0   age                           36992 non-null  int64   \n",
      " 1   gender                        36992 non-null  category\n",
      " 2   region_category               31564 non-null  category\n",
      " 3   membership_category           36992 non-null  object  \n",
      " 4   joining_date                  36992 non-null  object  \n",
      " 5   joined_through_referral       36992 non-null  object  \n",
      " 6   referral_id                   36992 non-null  object  \n",
      " 7   preferred_offer_types         36704 non-null  object  \n",
      " 8   medium_of_operation           36992 non-null  object  \n",
      " 9   internet_option               36992 non-null  object  \n",
      " 10  last_visit_time               36992 non-null  object  \n",
      " 11  days_since_last_login         36992 non-null  int64   \n",
      " 12  avg_time_spent                36992 non-null  float64 \n",
      " 13  avg_transaction_value         36992 non-null  float64 \n",
      " 14  avg_frequency_login_days      36992 non-null  object  \n",
      " 15  points_in_wallet              33549 non-null  float64 \n",
      " 16  used_special_discount         36992 non-null  object  \n",
      " 17  offer_application_preference  36992 non-null  object  \n",
      " 18  past_complaint                36992 non-null  object  \n",
      " 19  complaint_status              36992 non-null  object  \n",
      " 20  feedback                      36992 non-null  object  \n",
      " 21  churn_risk_score              36992 non-null  int64   \n",
      "dtypes: category(2), float64(3), int64(3), object(14)\n",
      "memory usage: 5.7+ MB\n"
     ]
    }
   ],
   "source": [
    "#sorted(df['joining_date'].unique())\n",
    "#df['joining_date'].isna().sum()\n",
    "df['joining_date'] = pd.to_datetime(df['joining_date'], format='%Y-%m-%d').dt.date\n",
    "#TODO : change datetime to only date (to make it look nicer)\n",
    "df.info()\n"
   ]
  },
  {
   "cell_type": "code",
   "execution_count": 86,
   "metadata": {},
   "outputs": [
    {
     "name": "stdout",
     "output_type": "stream",
     "text": [
      "2015-01-01\n",
      "2017-12-31\n"
     ]
    }
   ],
   "source": [
    "print(df['joining_date'].min())\n",
    "print(df['joining_date'].max())"
   ]
  },
  {
   "cell_type": "markdown",
   "metadata": {},
   "source": [
    "The joining dates span over 3 years, from 2015 to 2017."
   ]
  },
  {
   "cell_type": "code",
   "execution_count": 87,
   "metadata": {},
   "outputs": [
    {
     "name": "stdout",
     "output_type": "stream",
     "text": [
      "['No' '?' 'Yes']\n"
     ]
    },
    {
     "name": "stderr",
     "output_type": "stream",
     "text": [
      "/var/folders/7x/7jvqdh2175sfpc8m23x4jhkc0000gn/T/ipykernel_2895/3775946157.py:4: FutureWarning: ChainedAssignmentError: behaviour will change in pandas 3.0!\n",
      "You are setting values through chained assignment. Currently this works in certain cases, but when using Copy-on-Write (which will become the default behaviour in pandas 3.0) this will never work to update the original DataFrame or Series, because the intermediate object on which we are setting values will behave as a copy.\n",
      "A typical example is when you are setting values in a column of a DataFrame, like:\n",
      "\n",
      "df[\"col\"][row_indexer] = value\n",
      "\n",
      "Use `df.loc[row_indexer, \"col\"] = values` instead, to perform the assignment in a single step and ensure this keeps updating the original `df`.\n",
      "\n",
      "See the caveats in the documentation: https://pandas.pydata.org/pandas-docs/stable/user_guide/indexing.html#returning-a-view-versus-a-copy\n",
      "\n",
      "  df['joined_through_referral'][df['joined_through_referral'] == \"?\"] = \"Unknown\"\n",
      "/var/folders/7x/7jvqdh2175sfpc8m23x4jhkc0000gn/T/ipykernel_2895/3775946157.py:4: SettingWithCopyWarning: \n",
      "A value is trying to be set on a copy of a slice from a DataFrame\n",
      "\n",
      "See the caveats in the documentation: https://pandas.pydata.org/pandas-docs/stable/user_guide/indexing.html#returning-a-view-versus-a-copy\n",
      "  df['joined_through_referral'][df['joined_through_referral'] == \"?\"] = \"Unknown\"\n"
     ]
    }
   ],
   "source": [
    "print(df['joined_through_referral'].unique())\n",
    "\n",
    "#change \"?\" to \"Unknown\"\n",
    "df['joined_through_referral'][df['joined_through_referral'] == \"?\"] = \"Unknown\"\n",
    "\n",
    "# set to category\n",
    "df['joined_through_referral'] = df['joined_through_referral'].astype('category')"
   ]
  },
  {
   "cell_type": "markdown",
   "metadata": {},
   "source": [
    "'joined_through_referral' has three unique values: 'No', '?', 'Yes'. We change '?' to 'Unknown' and we convert it to a categorical variable."
   ]
  },
  {
   "cell_type": "markdown",
   "metadata": {},
   "source": [
    "Next, we examine the relationship between 'joined_through_referral' and 'referral_id'"
   ]
  },
  {
   "cell_type": "code",
   "execution_count": 88,
   "metadata": {},
   "outputs": [
    {
     "name": "stdout",
     "output_type": "stream",
     "text": [
      "joined_through_referral\n",
      "No                                                [xxxxxxxx]\n",
      "Unknown    [CID21329, CID56614, CID35062, CID29752, CID40...\n",
      "Yes        [CID12313, CID3793, CID24708, CID19275, CID108...\n",
      "Name: referral_id, dtype: object\n"
     ]
    },
    {
     "name": "stderr",
     "output_type": "stream",
     "text": [
      "/var/folders/7x/7jvqdh2175sfpc8m23x4jhkc0000gn/T/ipykernel_2895/2305088108.py:1: FutureWarning: The default of observed=False is deprecated and will be changed to True in a future version of pandas. Pass observed=False to retain current behavior or observed=True to adopt the future default and silence this warning.\n",
      "  print(df['referral_id'].groupby(df['joined_through_referral']).unique())\n"
     ]
    }
   ],
   "source": [
    "print(df['referral_id'].groupby(df['joined_through_referral']).unique())"
   ]
  },
  {
   "cell_type": "code",
   "execution_count": 89,
   "metadata": {},
   "outputs": [
    {
     "data": {
      "text/html": [
       "<div>\n",
       "<style scoped>\n",
       "    .dataframe tbody tr th:only-of-type {\n",
       "        vertical-align: middle;\n",
       "    }\n",
       "\n",
       "    .dataframe tbody tr th {\n",
       "        vertical-align: top;\n",
       "    }\n",
       "\n",
       "    .dataframe thead th {\n",
       "        text-align: right;\n",
       "    }\n",
       "</style>\n",
       "<table border=\"1\" class=\"dataframe\">\n",
       "  <thead>\n",
       "    <tr style=\"text-align: right;\">\n",
       "      <th></th>\n",
       "      <th>referral_id</th>\n",
       "      <th>joined_through_referral</th>\n",
       "    </tr>\n",
       "  </thead>\n",
       "  <tbody>\n",
       "    <tr>\n",
       "      <th>32851</th>\n",
       "      <td>xxxxxxxx</td>\n",
       "      <td>No</td>\n",
       "    </tr>\n",
       "    <tr>\n",
       "      <th>1434</th>\n",
       "      <td>CID3597</td>\n",
       "      <td>Unknown</td>\n",
       "    </tr>\n",
       "    <tr>\n",
       "      <th>4791</th>\n",
       "      <td>CID16956</td>\n",
       "      <td>Yes</td>\n",
       "    </tr>\n",
       "    <tr>\n",
       "      <th>12688</th>\n",
       "      <td>xxxxxxxx</td>\n",
       "      <td>No</td>\n",
       "    </tr>\n",
       "    <tr>\n",
       "      <th>33674</th>\n",
       "      <td>xxxxxxxx</td>\n",
       "      <td>No</td>\n",
       "    </tr>\n",
       "    <tr>\n",
       "      <th>20400</th>\n",
       "      <td>CID44491</td>\n",
       "      <td>Yes</td>\n",
       "    </tr>\n",
       "    <tr>\n",
       "      <th>25083</th>\n",
       "      <td>xxxxxxxx</td>\n",
       "      <td>No</td>\n",
       "    </tr>\n",
       "    <tr>\n",
       "      <th>23526</th>\n",
       "      <td>xxxxxxxx</td>\n",
       "      <td>No</td>\n",
       "    </tr>\n",
       "    <tr>\n",
       "      <th>24298</th>\n",
       "      <td>xxxxxxxx</td>\n",
       "      <td>No</td>\n",
       "    </tr>\n",
       "    <tr>\n",
       "      <th>28795</th>\n",
       "      <td>xxxxxxxx</td>\n",
       "      <td>Unknown</td>\n",
       "    </tr>\n",
       "    <tr>\n",
       "      <th>615</th>\n",
       "      <td>CID32065</td>\n",
       "      <td>Yes</td>\n",
       "    </tr>\n",
       "    <tr>\n",
       "      <th>585</th>\n",
       "      <td>xxxxxxxx</td>\n",
       "      <td>Yes</td>\n",
       "    </tr>\n",
       "    <tr>\n",
       "      <th>36235</th>\n",
       "      <td>xxxxxxxx</td>\n",
       "      <td>No</td>\n",
       "    </tr>\n",
       "    <tr>\n",
       "      <th>30643</th>\n",
       "      <td>xxxxxxxx</td>\n",
       "      <td>No</td>\n",
       "    </tr>\n",
       "    <tr>\n",
       "      <th>14031</th>\n",
       "      <td>CID7953</td>\n",
       "      <td>Yes</td>\n",
       "    </tr>\n",
       "    <tr>\n",
       "      <th>16558</th>\n",
       "      <td>xxxxxxxx</td>\n",
       "      <td>No</td>\n",
       "    </tr>\n",
       "    <tr>\n",
       "      <th>8729</th>\n",
       "      <td>CID47366</td>\n",
       "      <td>Unknown</td>\n",
       "    </tr>\n",
       "    <tr>\n",
       "      <th>12176</th>\n",
       "      <td>CID6271</td>\n",
       "      <td>Yes</td>\n",
       "    </tr>\n",
       "    <tr>\n",
       "      <th>4470</th>\n",
       "      <td>xxxxxxxx</td>\n",
       "      <td>No</td>\n",
       "    </tr>\n",
       "    <tr>\n",
       "      <th>27665</th>\n",
       "      <td>CID14879</td>\n",
       "      <td>Yes</td>\n",
       "    </tr>\n",
       "    <tr>\n",
       "      <th>24165</th>\n",
       "      <td>xxxxxxxx</td>\n",
       "      <td>No</td>\n",
       "    </tr>\n",
       "    <tr>\n",
       "      <th>10196</th>\n",
       "      <td>xxxxxxxx</td>\n",
       "      <td>No</td>\n",
       "    </tr>\n",
       "    <tr>\n",
       "      <th>11040</th>\n",
       "      <td>CID42514</td>\n",
       "      <td>Unknown</td>\n",
       "    </tr>\n",
       "    <tr>\n",
       "      <th>12343</th>\n",
       "      <td>CID56681</td>\n",
       "      <td>Yes</td>\n",
       "    </tr>\n",
       "    <tr>\n",
       "      <th>10618</th>\n",
       "      <td>CID16548</td>\n",
       "      <td>Yes</td>\n",
       "    </tr>\n",
       "    <tr>\n",
       "      <th>30055</th>\n",
       "      <td>xxxxxxxx</td>\n",
       "      <td>No</td>\n",
       "    </tr>\n",
       "    <tr>\n",
       "      <th>10098</th>\n",
       "      <td>CID28704</td>\n",
       "      <td>Yes</td>\n",
       "    </tr>\n",
       "    <tr>\n",
       "      <th>27748</th>\n",
       "      <td>CID36813</td>\n",
       "      <td>Unknown</td>\n",
       "    </tr>\n",
       "    <tr>\n",
       "      <th>26165</th>\n",
       "      <td>CID57072</td>\n",
       "      <td>Yes</td>\n",
       "    </tr>\n",
       "    <tr>\n",
       "      <th>12917</th>\n",
       "      <td>xxxxxxxx</td>\n",
       "      <td>Yes</td>\n",
       "    </tr>\n",
       "  </tbody>\n",
       "</table>\n",
       "</div>"
      ],
      "text/plain": [
       "      referral_id joined_through_referral\n",
       "32851    xxxxxxxx                      No\n",
       "1434      CID3597                 Unknown\n",
       "4791     CID16956                     Yes\n",
       "12688    xxxxxxxx                      No\n",
       "33674    xxxxxxxx                      No\n",
       "20400    CID44491                     Yes\n",
       "25083    xxxxxxxx                      No\n",
       "23526    xxxxxxxx                      No\n",
       "24298    xxxxxxxx                      No\n",
       "28795    xxxxxxxx                 Unknown\n",
       "615      CID32065                     Yes\n",
       "585      xxxxxxxx                     Yes\n",
       "36235    xxxxxxxx                      No\n",
       "30643    xxxxxxxx                      No\n",
       "14031     CID7953                     Yes\n",
       "16558    xxxxxxxx                      No\n",
       "8729     CID47366                 Unknown\n",
       "12176     CID6271                     Yes\n",
       "4470     xxxxxxxx                      No\n",
       "27665    CID14879                     Yes\n",
       "24165    xxxxxxxx                      No\n",
       "10196    xxxxxxxx                      No\n",
       "11040    CID42514                 Unknown\n",
       "12343    CID56681                     Yes\n",
       "10618    CID16548                     Yes\n",
       "30055    xxxxxxxx                      No\n",
       "10098    CID28704                     Yes\n",
       "27748    CID36813                 Unknown\n",
       "26165    CID57072                     Yes\n",
       "12917    xxxxxxxx                     Yes"
      ]
     },
     "execution_count": 89,
     "metadata": {},
     "output_type": "execute_result"
    }
   ],
   "source": [
    "df[['referral_id', 'joined_through_referral']].sample(30)"
   ]
  },
  {
   "cell_type": "code",
   "execution_count": 90,
   "metadata": {},
   "outputs": [
    {
     "data": {
      "text/plain": [
       "'CID21329'"
      ]
     },
     "execution_count": 90,
     "metadata": {},
     "output_type": "execute_result"
    }
   ],
   "source": [
    "df['referral_id'].iloc[1]"
   ]
  },
  {
   "cell_type": "code",
   "execution_count": 91,
   "metadata": {},
   "outputs": [
    {
     "name": "stderr",
     "output_type": "stream",
     "text": [
      "/var/folders/7x/7jvqdh2175sfpc8m23x4jhkc0000gn/T/ipykernel_2895/71707630.py:3: SettingWithCopyWarning: \n",
      "A value is trying to be set on a copy of a slice from a DataFrame\n",
      "\n",
      "See the caveats in the documentation: https://pandas.pydata.org/pandas-docs/stable/user_guide/indexing.html#returning-a-view-versus-a-copy\n",
      "  df['CID'][df['CID'].str.startswith('CID')] = 'CID'\n"
     ]
    }
   ],
   "source": [
    "df['referral_id'][df['referral_id'].str.startswith('CID')]\n",
    "df['CID'] = df['referral_id']\n",
    "df['CID'][df['CID'].str.startswith('CID')] = 'CID'"
   ]
  },
  {
   "cell_type": "markdown",
   "metadata": {},
   "source": [
    "We create the new column 'CID' consisting of CID if the 'referral_id' starts with 'CID'."
   ]
  },
  {
   "cell_type": "code",
   "execution_count": 92,
   "metadata": {},
   "outputs": [
    {
     "data": {
      "text/plain": [
       "array(['xxxxxxxx', 'CID', 'No referral'], dtype=object)"
      ]
     },
     "execution_count": 92,
     "metadata": {},
     "output_type": "execute_result"
    }
   ],
   "source": [
    "df['CID'].unique()"
   ]
  },
  {
   "cell_type": "code",
   "execution_count": 93,
   "metadata": {},
   "outputs": [
    {
     "data": {
      "text/plain": [
       "<Axes: xlabel='CID', ylabel='count'>"
      ]
     },
     "execution_count": 93,
     "metadata": {},
     "output_type": "execute_result"
    },
    {
     "data": {
      "image/png": "[encoded data removed]",
      "text/plain": [
       "<Figure size 640x480 with 1 Axes>"
      ]
     },
     "metadata": {},
     "output_type": "display_data"
    }
   ],
   "source": [
    "sns.countplot(df, hue='joined_through_referral', x='CID')"
   ]
  },
  {
   "cell_type": "markdown",
   "metadata": {},
   "source": [
    "From the names of the variables we expected that all cases of 'XXXXXXXX' have not joined through referral (because there is no referral_id present), all cases with 'CID' have joined through referral (because a referral_id is present), and all cases of 'No referral' are ?. However, this didn't turned out to be true. As a consequence, we decided to drop 'referral_id'. This happens in notebook 04_data_cleaning_feature."
   ]
  },
  {
   "cell_type": "code",
   "execution_count": 94,
   "metadata": {},
   "outputs": [
    {
     "name": "stdout",
     "output_type": "stream",
     "text": [
      "['Gift Vouchers/Coupons' 'Credit/Debit Card Offers' 'Without Offers' nan]\n",
      "288\n",
      "0.007785467128027681\n"
     ]
    },
    {
     "data": {
      "text/plain": [
       "count                     36704\n",
       "unique                        3\n",
       "top       Gift Vouchers/Coupons\n",
       "freq                      12349\n",
       "Name: preferred_offer_types, dtype: object"
      ]
     },
     "execution_count": 94,
     "metadata": {},
     "output_type": "execute_result"
    }
   ],
   "source": [
    "print(df['preferred_offer_types'].unique())\n",
    "print(df['preferred_offer_types'].isna().sum())\n",
    "print(df['preferred_offer_types'].isna().sum()/ df['preferred_offer_types'].isna().count())\n",
    "df['preferred_offer_types'] = df['preferred_offer_types'].astype('category')\n",
    "df['preferred_offer_types'].describe()"
   ]
  },
  {
   "cell_type": "markdown",
   "metadata": {},
   "source": [
    "'preferred_offer_types' has three unique values: 'Gift Vouchers/Coupons', 'Credit/Debit Card Offers', 'Without Offers' and 288 missing values (0.008%). We convert it to a categorical variable. The nan values will be dropped in notebook 04_data_cleaning_feature."
   ]
  },
  {
   "cell_type": "code",
   "execution_count": 95,
   "metadata": {},
   "outputs": [
    {
     "name": "stdout",
     "output_type": "stream",
     "text": [
      "['?' 'Desktop' 'Smartphone' 'Both']\n"
     ]
    },
    {
     "data": {
      "text/plain": [
       "count       36992\n",
       "unique          4\n",
       "top       Desktop\n",
       "freq        13913\n",
       "Name: medium_of_operation, dtype: object"
      ]
     },
     "execution_count": 95,
     "metadata": {},
     "output_type": "execute_result"
    }
   ],
   "source": [
    "print(df['medium_of_operation'].unique())\n",
    "df['medium_of_operation'] = df['medium_of_operation'].astype('category')\n",
    "df['medium_of_operation'].describe()"
   ]
  },
  {
   "cell_type": "markdown",
   "metadata": {},
   "source": [
    "'medium_of_operation' has four unique values: '?', 'Desktop', 'Smartphone', and 'Both'. We convert it to a categorical variable."
   ]
  },
  {
   "cell_type": "code",
   "execution_count": 96,
   "metadata": {},
   "outputs": [
    {
     "name": "stdout",
     "output_type": "stream",
     "text": [
      "['Wi-Fi' 'Mobile_Data' 'Fiber_Optic']\n"
     ]
    },
    {
     "data": {
      "text/plain": [
       "count     36992\n",
       "unique        3\n",
       "top       Wi-Fi\n",
       "freq      12413\n",
       "Name: internet_option, dtype: object"
      ]
     },
     "execution_count": 96,
     "metadata": {},
     "output_type": "execute_result"
    }
   ],
   "source": [
    "print(df['internet_option'].unique())\n",
    "df['internet_option'] = df['internet_option'].astype('category')\n",
    "df['internet_option'].describe()"
   ]
  },
  {
   "cell_type": "markdown",
   "metadata": {},
   "source": [
    "'internet_option' has three unique values: 'Wi-Fi', 'Mobile_Data', and 'Fiber_Optic'. We convert it to a categorical variable."
   ]
  },
  {
   "cell_type": "code",
   "execution_count": 97,
   "metadata": {},
   "outputs": [
    {
     "name": "stdout",
     "output_type": "stream",
     "text": [
      "['16:08:02' '12:38:13' '22:53:21' ... '04:14:05' '09:50:03' '01:39:52']\n",
      "[datetime.time(16, 8, 2) datetime.time(12, 38, 13)\n",
      " datetime.time(22, 53, 21) ... datetime.time(4, 14, 5)\n",
      " datetime.time(9, 50, 3) datetime.time(1, 39, 52)]\n"
     ]
    }
   ],
   "source": [
    "print(df['last_visit_time'].unique())\n",
    "df['last_visit_time'] = pd.to_datetime(df['last_visit_time'], format='%H:%M:%S').dt.time\n",
    "print(df['last_visit_time'].unique())"
   ]
  },
  {
   "cell_type": "markdown",
   "metadata": {},
   "source": [
    "We convert 'last_visit_time' to date time since it's a time."
   ]
  },
  {
   "cell_type": "code",
   "execution_count": 98,
   "metadata": {},
   "outputs": [
    {
     "name": "stdout",
     "output_type": "stream",
     "text": [
      "[  17   16   14   11   20   23   10   19   15   13 -999    5   12    9\n",
      "   21   18    1   22    4    8    3    6    2   24    7   26   25]\n"
     ]
    },
    {
     "data": {
      "text/plain": [
       "1999"
      ]
     },
     "execution_count": 98,
     "metadata": {},
     "output_type": "execute_result"
    }
   ],
   "source": [
    "print(df['days_since_last_login'].unique())\n",
    "df['days_since_last_login'][df['days_since_last_login'] == -999].count()"
   ]
  },
  {
   "cell_type": "markdown",
   "metadata": {},
   "source": [
    "A value of -999 doesn't make any sense. We suspect that there are 1999 clients who never logged into the site (indicated as -999)."
   ]
  },
  {
   "cell_type": "code",
   "execution_count": 99,
   "metadata": {},
   "outputs": [
    {
     "name": "stdout",
     "output_type": "stream",
     "text": [
      "count    36992.000000\n",
      "mean       243.472334\n",
      "std        398.289149\n",
      "min      -2814.109110\n",
      "25%         60.102500\n",
      "50%        161.765000\n",
      "75%        356.515000\n",
      "max       3235.578521\n",
      "Name: avg_time_spent, dtype: float64\n"
     ]
    }
   ],
   "source": [
    "print(df['avg_time_spent'].describe())"
   ]
  },
  {
   "cell_type": "markdown",
   "metadata": {},
   "source": [
    "There are negative values which don't make sense. Looking at the min/max values, we assume that the time is in seconds per day."
   ]
  },
  {
   "cell_type": "code",
   "execution_count": 100,
   "metadata": {},
   "outputs": [
    {
     "name": "stdout",
     "output_type": "stream",
     "text": [
      "0\n",
      "count    36992.000000\n",
      "mean     29271.194003\n",
      "std      19444.806226\n",
      "min        800.460000\n",
      "25%      14177.540000\n",
      "50%      27554.485000\n",
      "75%      40855.110000\n",
      "max      99914.050000\n",
      "Name: avg_transaction_value, dtype: float64\n"
     ]
    }
   ],
   "source": [
    "print(df['avg_transaction_value'].isna().sum()) # check for missing values\n",
    "print(df['avg_transaction_value'].describe())"
   ]
  },
  {
   "cell_type": "markdown",
   "metadata": {},
   "source": [
    "Since there are only numerical values, no transforming is neccessary."
   ]
  },
  {
   "cell_type": "code",
   "execution_count": 101,
   "metadata": {},
   "outputs": [
    {
     "name": "stdout",
     "output_type": "stream",
     "text": [
      "count     36992\n",
      "unique     1654\n",
      "top       Error\n",
      "freq       3522\n",
      "Name: avg_frequency_login_days, dtype: object\n",
      "['17.0' '10.0' '22.0' ... '-9.32551114210603' '-8.759329712785977'\n",
      " '27.8399274405269']\n",
      "There are 3522 istances of 'Error'.\n"
     ]
    },
    {
     "data": {
      "text/plain": [
       "<Axes: xlabel='avg_frequency_login_days', ylabel='Count'>"
      ]
     },
     "execution_count": 101,
     "metadata": {},
     "output_type": "execute_result"
    },
    {
     "data": {
      "image/png": "[encoded data removed]",
      "text/plain": [
       "<Figure size 640x480 with 1 Axes>"
      ]
     },
     "metadata": {},
     "output_type": "display_data"
    }
   ],
   "source": [
    "print(df['avg_frequency_login_days'].describe())\n",
    "print(df['avg_frequency_login_days'].unique())\n",
    "\n",
    "error = df['avg_frequency_login_days'][df['avg_frequency_login_days'] == 'Error'].count()\n",
    "print(f\"There are {error} istances of 'Error'.\")\n",
    "df['avg_frequency_login_days'][df['avg_frequency_login_days'] != 'Error'].astype('float32').describe()\n",
    "df['avg_frequency_login_days'] = pd.to_numeric(df['avg_frequency_login_days'], errors='coerce').astype('float32') # errors = coerce, converts non-numeric values to NaN\n",
    "\n",
    "sns.histplot(df['avg_frequency_login_days'] )\n"
   ]
  },
  {
   "cell_type": "markdown",
   "metadata": {},
   "source": [
    "It's strange that there are negative values for average frequency login days. The plot looks as if the data has already been log transformed.   \n",
    "We'll take care of the 'Error' values in notebook 4 04_data_cleaning_feature to treat them like nan values."
   ]
  },
  {
   "cell_type": "code",
   "execution_count": 102,
   "metadata": {},
   "outputs": [
    {
     "name": "stdout",
     "output_type": "stream",
     "text": [
      "count    33549.000000\n",
      "mean       686.882199\n",
      "std        194.063624\n",
      "min       -760.661236\n",
      "25%        616.150000\n",
      "50%        697.620000\n",
      "75%        763.950000\n",
      "max       2069.069761\n",
      "Name: points_in_wallet, dtype: float64\n",
      "[781.75                nan 500.69       ... 242.97962545 639.51\n",
      " 197.26441364]\n"
     ]
    },
    {
     "data": {
      "text/plain": [
       "<Axes: xlabel='points_in_wallet', ylabel='Count'>"
      ]
     },
     "execution_count": 102,
     "metadata": {},
     "output_type": "execute_result"
    },
    {
     "data": {
      "image/png": "[encoded data removed]",
      "text/plain": [
       "<Figure size 640x480 with 1 Axes>"
      ]
     },
     "metadata": {},
     "output_type": "display_data"
    }
   ],
   "source": [
    "print(df['points_in_wallet'].describe())\n",
    "print(df['points_in_wallet'].unique())\n",
    "\n",
    "sns.histplot(df['points_in_wallet'] )"
   ]
  },
  {
   "cell_type": "markdown",
   "metadata": {},
   "source": [
    "Similar distribution as 'avg_frequency_login_days'. There are some negative values."
   ]
  },
  {
   "cell_type": "code",
   "execution_count": 103,
   "metadata": {},
   "outputs": [
    {
     "name": "stdout",
     "output_type": "stream",
     "text": [
      "count     36992\n",
      "unique        2\n",
      "top         Yes\n",
      "freq      20342\n",
      "Name: used_special_discount, dtype: object\n",
      "['Yes' 'No']\n"
     ]
    }
   ],
   "source": [
    "print(df['used_special_discount'].describe())\n",
    "print(df['used_special_discount'].unique())\n",
    "\n",
    "df['used_special_discount'] = df['used_special_discount'].astype('category')\n"
   ]
  },
  {
   "cell_type": "markdown",
   "metadata": {},
   "source": [
    "'used_special_discount' has two unique values: 'Yes' and 'No'. We convert it to a categorical variable."
   ]
  },
  {
   "cell_type": "code",
   "execution_count": 104,
   "metadata": {},
   "outputs": [
    {
     "name": "stdout",
     "output_type": "stream",
     "text": [
      "count     36992\n",
      "unique        2\n",
      "top         Yes\n",
      "freq      20440\n",
      "Name: offer_application_preference, dtype: object\n",
      "['Yes' 'No']\n"
     ]
    }
   ],
   "source": [
    "print(df['offer_application_preference'].describe())\n",
    "print(df['offer_application_preference'].unique())\n",
    "\n",
    "df['offer_application_preference'] = df['offer_application_preference'].astype('category')"
   ]
  },
  {
   "cell_type": "markdown",
   "metadata": {},
   "source": [
    "'offer_application_preference' has two unique values: 'Yes' and 'No'. We convert it to a categorical variable."
   ]
  },
  {
   "cell_type": "code",
   "execution_count": 105,
   "metadata": {},
   "outputs": [
    {
     "name": "stdout",
     "output_type": "stream",
     "text": [
      "count     36992\n",
      "unique        2\n",
      "top          No\n",
      "freq      18602\n",
      "Name: past_complaint, dtype: object\n",
      "['No' 'Yes']\n"
     ]
    }
   ],
   "source": [
    "print(df['past_complaint'].describe())\n",
    "print(df['past_complaint'].unique())\n",
    "\n",
    "df['past_complaint'] = df['past_complaint'].astype('category')"
   ]
  },
  {
   "cell_type": "markdown",
   "metadata": {},
   "source": [
    "'past_complaint' has two unique values: 'Yes' and 'No'. We convert it to a categorical variable."
   ]
  },
  {
   "cell_type": "code",
   "execution_count": 106,
   "metadata": {},
   "outputs": [
    {
     "name": "stdout",
     "output_type": "stream",
     "text": [
      "count              36992\n",
      "unique                 5\n",
      "top       Not Applicable\n",
      "freq               18602\n",
      "Name: complaint_status, dtype: object\n",
      "['Not Applicable' 'Solved' 'Solved in Follow-up' 'Unsolved'\n",
      " 'No Information Available']\n"
     ]
    },
    {
     "name": "stderr",
     "output_type": "stream",
     "text": [
      "/var/folders/7x/7jvqdh2175sfpc8m23x4jhkc0000gn/T/ipykernel_2895/4107476127.py:6: UserWarning: set_ticklabels() should only be used with a fixed number of ticks, i.e. after set_ticks() or using a FixedLocator.\n",
      "  chart.set_xticklabels(chart.get_xticklabels(), rotation=45)\n"
     ]
    },
    {
     "data": {
      "image/png": "[encoded data removed]",
      "text/plain": [
       "<Figure size 1000x500 with 1 Axes>"
      ]
     },
     "metadata": {},
     "output_type": "display_data"
    }
   ],
   "source": [
    "print(df['complaint_status'].describe())\n",
    "print(df['complaint_status'].unique())\n",
    "\n",
    "plt.figure(figsize=(10,5))\n",
    "chart = sns.histplot(df['complaint_status'])\n",
    "chart.set_xticklabels(chart.get_xticklabels(), rotation=45)\n",
    "\n",
    "df['complaint_status'] = df['complaint_status'].astype('category')"
   ]
  },
  {
   "cell_type": "markdown",
   "metadata": {},
   "source": [
    "'complaint_status' has five unique values: 'Not Applicable', 'Solved', 'Solved in Follow-up', 'Unsolved' and 'No Information Available'. We convert it to a categorical variable.  \n",
    "\"Not applicable\" may refer to the customers with no complaints."
   ]
  },
  {
   "cell_type": "code",
   "execution_count": 107,
   "metadata": {},
   "outputs": [
    {
     "name": "stdout",
     "output_type": "stream",
     "text": [
      "count                    36992\n",
      "unique                       9\n",
      "top       Poor Product Quality\n",
      "freq                      6350\n",
      "Name: feedback, dtype: object\n",
      "['Products always in Stock' 'Quality Customer Care' 'Poor Website'\n",
      " 'No reason specified' 'Poor Product Quality' 'Poor Customer Service'\n",
      " 'Too many ads' 'User Friendly Website' 'Reasonable Price']\n"
     ]
    },
    {
     "name": "stderr",
     "output_type": "stream",
     "text": [
      "/var/folders/7x/7jvqdh2175sfpc8m23x4jhkc0000gn/T/ipykernel_2895/266915617.py:6: UserWarning: set_ticklabels() should only be used with a fixed number of ticks, i.e. after set_ticks() or using a FixedLocator.\n",
      "  chart.set_xticklabels(chart.get_xticklabels(), rotation=45, horizontalalignment='right')\n"
     ]
    },
    {
     "data": {
      "image/png": "[encoded data removed]",
      "text/plain": [
       "<Figure size 1000x500 with 1 Axes>"
      ]
     },
     "metadata": {},
     "output_type": "display_data"
    }
   ],
   "source": [
    "print(df['feedback'].describe())\n",
    "print(df['feedback'].unique())\n",
    "\n",
    "plt.figure(figsize=(10,5))\n",
    "chart = sns.histplot(df['feedback'])\n",
    "chart.set_xticklabels(chart.get_xticklabels(), rotation=45, horizontalalignment='right')\n",
    "\n",
    "df['feedback'] = df['feedback'].astype('category')"
   ]
  },
  {
   "cell_type": "markdown",
   "metadata": {},
   "source": [
    "'feedback' has nine unique values: 'Products always in Stock', 'Quality Customer Care', 'Poor Website', 'No reason specified', 'Poor Product Quality', 'Poor Customer Service', 'Too many ads', 'User Friendly Website' and 'Reasonable Price'. We convert it to a categorical variable.  \n",
    "One could groupd the feedback by positive and negative feedback. There seems to be a large overlap between positive and negative feedback."
   ]
  },
  {
   "cell_type": "code",
   "execution_count": 108,
   "metadata": {},
   "outputs": [
    {
     "name": "stdout",
     "output_type": "stream",
     "text": [
      "count    36992.000000\n",
      "mean         0.540982\n",
      "std          0.498324\n",
      "min          0.000000\n",
      "25%          0.000000\n",
      "50%          1.000000\n",
      "75%          1.000000\n",
      "max          1.000000\n",
      "Name: churn_risk_score, dtype: float64\n",
      "[0 1]\n"
     ]
    },
    {
     "data": {
      "text/plain": [
       "<Axes: xlabel='churn_risk_score', ylabel='Count'>"
      ]
     },
     "execution_count": 108,
     "metadata": {},
     "output_type": "execute_result"
    },
    {
     "data": {
      "image/png": "[encoded data removed]",
      "text/plain": [
       "<Figure size 640x480 with 1 Axes>"
      ]
     },
     "metadata": {},
     "output_type": "display_data"
    }
   ],
   "source": [
    "print(df['churn_risk_score'].describe())\n",
    "print(df['churn_risk_score'].unique())\n",
    "sns.histplot(df['churn_risk_score'])"
   ]
  },
  {
   "cell_type": "markdown",
   "metadata": {},
   "source": [
    "As for the target 'churn_risk_score', there is a slight imbalance with more score 1 than score 0."
   ]
  },
  {
   "cell_type": "code",
   "execution_count": 109,
   "metadata": {},
   "outputs": [],
   "source": [
    "# save the df to be used in another notebook\n",
    "df.to_pickle('./data/df.pkl')"
   ]
  },
  {
   "cell_type": "markdown",
   "metadata": {},
   "source": []
  }
 ],
 "metadata": {
  "kernelspec": {
   "display_name": ".venv",
   "language": "python",
   "name": "python3"
  },
  "language_info": {
   "codemirror_mode": {
    "name": "ipython",
    "version": 3
   },
   "file_extension": ".py",
   "mimetype": "text/x-python",
   "name": "python",
   "nbconvert_exporter": "python",
   "pygments_lexer": "ipython3",
   "version": "3.11.3"
  }
 },
 "nbformat": 4,
 "nbformat_minor": 2
}
