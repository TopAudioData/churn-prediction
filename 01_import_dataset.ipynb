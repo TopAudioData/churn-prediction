{
 "cells": [
  {
   "cell_type": "code",
   "execution_count": 86,
   "metadata": {},
   "outputs": [],
   "source": [
    "import numpy as np\n",
    "import pandas as pd\n",
    "from sklearn.preprocessing import OrdinalEncoder\n",
    "import seaborn as sns\n",
    "import matplotlib.pyplot as plt\n"
   ]
  },
  {
   "cell_type": "code",
   "execution_count": 70,
   "metadata": {},
   "outputs": [
    {
     "data": {
      "text/html": [
       "<div>\n",
       "<style scoped>\n",
       "    .dataframe tbody tr th:only-of-type {\n",
       "        vertical-align: middle;\n",
       "    }\n",
       "\n",
       "    .dataframe tbody tr th {\n",
       "        vertical-align: top;\n",
       "    }\n",
       "\n",
       "    .dataframe thead th {\n",
       "        text-align: right;\n",
       "    }\n",
       "</style>\n",
       "<table border=\"1\" class=\"dataframe\">\n",
       "  <thead>\n",
       "    <tr style=\"text-align: right;\">\n",
       "      <th></th>\n",
       "      <th>Unnamed: 0</th>\n",
       "      <th>age</th>\n",
       "      <th>gender</th>\n",
       "      <th>security_no</th>\n",
       "      <th>region_category</th>\n",
       "      <th>membership_category</th>\n",
       "      <th>joining_date</th>\n",
       "      <th>joined_through_referral</th>\n",
       "      <th>referral_id</th>\n",
       "      <th>preferred_offer_types</th>\n",
       "      <th>...</th>\n",
       "      <th>avg_time_spent</th>\n",
       "      <th>avg_transaction_value</th>\n",
       "      <th>avg_frequency_login_days</th>\n",
       "      <th>points_in_wallet</th>\n",
       "      <th>used_special_discount</th>\n",
       "      <th>offer_application_preference</th>\n",
       "      <th>past_complaint</th>\n",
       "      <th>complaint_status</th>\n",
       "      <th>feedback</th>\n",
       "      <th>churn_risk_score</th>\n",
       "    </tr>\n",
       "  </thead>\n",
       "  <tbody>\n",
       "    <tr>\n",
       "      <th>0</th>\n",
       "      <td>0</td>\n",
       "      <td>18</td>\n",
       "      <td>F</td>\n",
       "      <td>XW0DQ7H</td>\n",
       "      <td>Village</td>\n",
       "      <td>Platinum Membership</td>\n",
       "      <td>2017-08-17</td>\n",
       "      <td>No</td>\n",
       "      <td>xxxxxxxx</td>\n",
       "      <td>Gift Vouchers/Coupons</td>\n",
       "      <td>...</td>\n",
       "      <td>300.63</td>\n",
       "      <td>53005.25</td>\n",
       "      <td>17.0</td>\n",
       "      <td>781.75</td>\n",
       "      <td>Yes</td>\n",
       "      <td>Yes</td>\n",
       "      <td>No</td>\n",
       "      <td>Not Applicable</td>\n",
       "      <td>Products always in Stock</td>\n",
       "      <td>0</td>\n",
       "    </tr>\n",
       "    <tr>\n",
       "      <th>1</th>\n",
       "      <td>1</td>\n",
       "      <td>32</td>\n",
       "      <td>F</td>\n",
       "      <td>5K0N3X1</td>\n",
       "      <td>City</td>\n",
       "      <td>Premium Membership</td>\n",
       "      <td>2017-08-28</td>\n",
       "      <td>?</td>\n",
       "      <td>CID21329</td>\n",
       "      <td>Gift Vouchers/Coupons</td>\n",
       "      <td>...</td>\n",
       "      <td>306.34</td>\n",
       "      <td>12838.38</td>\n",
       "      <td>10.0</td>\n",
       "      <td>NaN</td>\n",
       "      <td>Yes</td>\n",
       "      <td>No</td>\n",
       "      <td>Yes</td>\n",
       "      <td>Solved</td>\n",
       "      <td>Quality Customer Care</td>\n",
       "      <td>0</td>\n",
       "    </tr>\n",
       "    <tr>\n",
       "      <th>2</th>\n",
       "      <td>2</td>\n",
       "      <td>44</td>\n",
       "      <td>F</td>\n",
       "      <td>1F2TCL3</td>\n",
       "      <td>Town</td>\n",
       "      <td>No Membership</td>\n",
       "      <td>2016-11-11</td>\n",
       "      <td>Yes</td>\n",
       "      <td>CID12313</td>\n",
       "      <td>Gift Vouchers/Coupons</td>\n",
       "      <td>...</td>\n",
       "      <td>516.16</td>\n",
       "      <td>21027.00</td>\n",
       "      <td>22.0</td>\n",
       "      <td>500.69</td>\n",
       "      <td>No</td>\n",
       "      <td>Yes</td>\n",
       "      <td>Yes</td>\n",
       "      <td>Solved in Follow-up</td>\n",
       "      <td>Poor Website</td>\n",
       "      <td>1</td>\n",
       "    </tr>\n",
       "    <tr>\n",
       "      <th>3</th>\n",
       "      <td>3</td>\n",
       "      <td>37</td>\n",
       "      <td>M</td>\n",
       "      <td>VJGJ33N</td>\n",
       "      <td>City</td>\n",
       "      <td>No Membership</td>\n",
       "      <td>2016-10-29</td>\n",
       "      <td>Yes</td>\n",
       "      <td>CID3793</td>\n",
       "      <td>Gift Vouchers/Coupons</td>\n",
       "      <td>...</td>\n",
       "      <td>53.27</td>\n",
       "      <td>25239.56</td>\n",
       "      <td>6.0</td>\n",
       "      <td>567.66</td>\n",
       "      <td>No</td>\n",
       "      <td>Yes</td>\n",
       "      <td>Yes</td>\n",
       "      <td>Unsolved</td>\n",
       "      <td>Poor Website</td>\n",
       "      <td>1</td>\n",
       "    </tr>\n",
       "    <tr>\n",
       "      <th>4</th>\n",
       "      <td>4</td>\n",
       "      <td>31</td>\n",
       "      <td>F</td>\n",
       "      <td>SVZXCWB</td>\n",
       "      <td>City</td>\n",
       "      <td>No Membership</td>\n",
       "      <td>2017-09-12</td>\n",
       "      <td>No</td>\n",
       "      <td>xxxxxxxx</td>\n",
       "      <td>Credit/Debit Card Offers</td>\n",
       "      <td>...</td>\n",
       "      <td>113.13</td>\n",
       "      <td>24483.66</td>\n",
       "      <td>16.0</td>\n",
       "      <td>663.06</td>\n",
       "      <td>No</td>\n",
       "      <td>Yes</td>\n",
       "      <td>Yes</td>\n",
       "      <td>Solved</td>\n",
       "      <td>Poor Website</td>\n",
       "      <td>1</td>\n",
       "    </tr>\n",
       "  </tbody>\n",
       "</table>\n",
       "<p>5 rows × 24 columns</p>\n",
       "</div>"
      ],
      "text/plain": [
       "   Unnamed: 0  age gender security_no region_category  membership_category  \\\n",
       "0           0   18      F     XW0DQ7H         Village  Platinum Membership   \n",
       "1           1   32      F     5K0N3X1            City   Premium Membership   \n",
       "2           2   44      F     1F2TCL3            Town        No Membership   \n",
       "3           3   37      M     VJGJ33N            City        No Membership   \n",
       "4           4   31      F     SVZXCWB            City        No Membership   \n",
       "\n",
       "  joining_date joined_through_referral referral_id     preferred_offer_types  \\\n",
       "0   2017-08-17                      No    xxxxxxxx     Gift Vouchers/Coupons   \n",
       "1   2017-08-28                       ?    CID21329     Gift Vouchers/Coupons   \n",
       "2   2016-11-11                     Yes    CID12313     Gift Vouchers/Coupons   \n",
       "3   2016-10-29                     Yes     CID3793     Gift Vouchers/Coupons   \n",
       "4   2017-09-12                      No    xxxxxxxx  Credit/Debit Card Offers   \n",
       "\n",
       "   ... avg_time_spent avg_transaction_value avg_frequency_login_days  \\\n",
       "0  ...         300.63              53005.25                     17.0   \n",
       "1  ...         306.34              12838.38                     10.0   \n",
       "2  ...         516.16              21027.00                     22.0   \n",
       "3  ...          53.27              25239.56                      6.0   \n",
       "4  ...         113.13              24483.66                     16.0   \n",
       "\n",
       "   points_in_wallet  used_special_discount  offer_application_preference  \\\n",
       "0            781.75                    Yes                           Yes   \n",
       "1               NaN                    Yes                            No   \n",
       "2            500.69                     No                           Yes   \n",
       "3            567.66                     No                           Yes   \n",
       "4            663.06                     No                           Yes   \n",
       "\n",
       "  past_complaint     complaint_status                  feedback  \\\n",
       "0             No       Not Applicable  Products always in Stock   \n",
       "1            Yes               Solved     Quality Customer Care   \n",
       "2            Yes  Solved in Follow-up              Poor Website   \n",
       "3            Yes             Unsolved              Poor Website   \n",
       "4            Yes               Solved              Poor Website   \n",
       "\n",
       "  churn_risk_score  \n",
       "0                0  \n",
       "1                0  \n",
       "2                1  \n",
       "3                1  \n",
       "4                1  \n",
       "\n",
       "[5 rows x 24 columns]"
      ]
     },
     "execution_count": 70,
     "metadata": {},
     "output_type": "execute_result"
    }
   ],
   "source": [
    "df = pd.read_csv('data/churn.csv')\n",
    "df.head(5)"
   ]
  },
  {
   "cell_type": "code",
   "execution_count": 3,
   "metadata": {},
   "outputs": [
    {
     "name": "stdout",
     "output_type": "stream",
     "text": [
      "<class 'pandas.core.frame.DataFrame'>\n",
      "RangeIndex: 36992 entries, 0 to 36991\n",
      "Data columns (total 24 columns):\n",
      " #   Column                        Non-Null Count  Dtype  \n",
      "---  ------                        --------------  -----  \n",
      " 0   Unnamed: 0                    36992 non-null  int64  \n",
      " 1   age                           36992 non-null  int64  \n",
      " 2   gender                        36992 non-null  object \n",
      " 3   security_no                   36992 non-null  object \n",
      " 4   region_category               31564 non-null  object \n",
      " 5   membership_category           36992 non-null  object \n",
      " 6   joining_date                  36992 non-null  object \n",
      " 7   joined_through_referral       36992 non-null  object \n",
      " 8   referral_id                   36992 non-null  object \n",
      " 9   preferred_offer_types         36704 non-null  object \n",
      " 10  medium_of_operation           36992 non-null  object \n",
      " 11  internet_option               36992 non-null  object \n",
      " 12  last_visit_time               36992 non-null  object \n",
      " 13  days_since_last_login         36992 non-null  int64  \n",
      " 14  avg_time_spent                36992 non-null  float64\n",
      " 15  avg_transaction_value         36992 non-null  float64\n",
      " 16  avg_frequency_login_days      36992 non-null  object \n",
      " 17  points_in_wallet              33549 non-null  float64\n",
      " 18  used_special_discount         36992 non-null  object \n",
      " 19  offer_application_preference  36992 non-null  object \n",
      " 20  past_complaint                36992 non-null  object \n",
      " 21  complaint_status              36992 non-null  object \n",
      " 22  feedback                      36992 non-null  object \n",
      " 23  churn_risk_score              36992 non-null  int64  \n",
      "dtypes: float64(3), int64(4), object(17)\n",
      "memory usage: 6.8+ MB\n"
     ]
    }
   ],
   "source": [
    "df.info()"
   ]
  },
  {
   "cell_type": "code",
   "execution_count": 5,
   "metadata": {},
   "outputs": [
    {
     "data": {
      "text/plain": [
       "Unnamed: 0                      36992\n",
       "age                                55\n",
       "gender                              3\n",
       "security_no                     36992\n",
       "region_category                     3\n",
       "membership_category                 6\n",
       "joining_date                     1096\n",
       "joined_through_referral             3\n",
       "referral_id                     11359\n",
       "preferred_offer_types               3\n",
       "medium_of_operation                 4\n",
       "internet_option                     3\n",
       "last_visit_time                 30101\n",
       "days_since_last_login              27\n",
       "avg_time_spent                  25961\n",
       "avg_transaction_value           36894\n",
       "avg_frequency_login_days         1654\n",
       "points_in_wallet                23699\n",
       "used_special_discount               2\n",
       "offer_application_preference        2\n",
       "past_complaint                      2\n",
       "complaint_status                    5\n",
       "feedback                            9\n",
       "churn_risk_score                    2\n",
       "dtype: int64"
      ]
     },
     "execution_count": 5,
     "metadata": {},
     "output_type": "execute_result"
    }
   ],
   "source": [
    "df.nunique()"
   ]
  },
  {
   "cell_type": "code",
   "execution_count": 13,
   "metadata": {},
   "outputs": [
    {
     "data": {
      "text/plain": [
       "array([18, 32, 44, 37, 31, 13, 21, 42, 45, 25, 60, 11, 34, 40, 16, 57, 39,\n",
       "       33, 30, 19, 48, 43, 29, 10, 20, 61, 17, 12, 52, 26, 49, 24, 22, 36,\n",
       "       58, 41, 50, 23, 38, 35, 28, 53, 55, 59, 47, 54, 62, 51, 56, 27, 14,\n",
       "       46, 15, 64, 63])"
      ]
     },
     "execution_count": 13,
     "metadata": {},
     "output_type": "execute_result"
    }
   ],
   "source": [
    "df['age'].unique()\n",
    "# 'age' includes numerical features only, seems to be OK"
   ]
  },
  {
   "cell_type": "code",
   "execution_count": 45,
   "metadata": {},
   "outputs": [
    {
     "data": {
      "text/plain": [
       "count     36992\n",
       "unique        3\n",
       "top           F\n",
       "freq      18490\n",
       "Name: gender, dtype: object"
      ]
     },
     "execution_count": 45,
     "metadata": {},
     "output_type": "execute_result"
    }
   ],
   "source": [
    "df['gender'].unique()\n",
    "# 'gender' seems to be OK\n",
    "# convert to category\n",
    "df['gender'] = df['gender'].astype('category')\n",
    "df['gender'].describe()"
   ]
  },
  {
   "cell_type": "code",
   "execution_count": 49,
   "metadata": {},
   "outputs": [],
   "source": [
    "# drop 'security_no' and 'Unnamed: 0' because it has no predictiv value\n",
    "df.drop(['security_no', 'Unnamed: 0'], axis=1, inplace=True)"
   ]
  },
  {
   "cell_type": "code",
   "execution_count": 47,
   "metadata": {},
   "outputs": [
    {
     "name": "stdout",
     "output_type": "stream",
     "text": [
      "['Village' 'City' 'Town' nan]\n",
      "5428\n",
      "0.14673442906574394\n"
     ]
    },
    {
     "data": {
      "text/plain": [
       "count     31564\n",
       "unique        3\n",
       "top        Town\n",
       "freq      14128\n",
       "Name: region_category, dtype: object"
      ]
     },
     "execution_count": 47,
     "metadata": {},
     "output_type": "execute_result"
    }
   ],
   "source": [
    "print(df['region_category'].unique())\n",
    "print(df['region_category'].isna().sum())\n",
    "print(df['region_category'].isna().sum()/ df['region_category'].isna().count())\n",
    "df['region_category'] = df['region_category'].astype('category')\n",
    "df['region_category'].describe()"
   ]
  },
  {
   "cell_type": "markdown",
   "metadata": {},
   "source": [
    "region_category are three unique values: 'Village', 'City', 'Town' and 5428 missing values (14.67%)\n",
    "convert to category"
   ]
  },
  {
   "cell_type": "code",
   "execution_count": 54,
   "metadata": {},
   "outputs": [
    {
     "name": "stdout",
     "output_type": "stream",
     "text": [
      "['Platinum Membership' 'Premium Membership' 'No Membership'\n",
      " 'Gold Membership' 'Silver Membership' 'Basic Membership']\n"
     ]
    }
   ],
   "source": [
    "# membership_category \n",
    "print(df['membership_category'].unique())\n",
    "# encode this feature after splitting into ordinal category\n"
   ]
  },
  {
   "cell_type": "code",
   "execution_count": 73,
   "metadata": {},
   "outputs": [],
   "source": [
    "#sorted(df['joining_date'].unique())\n",
    "#df['joining_date'].isna().sum()\n",
    "df['joining_date'] = pd.to_datetime(df['joining_date'])\n",
    "#TODO : change datetime to only date (to make it look nicer)"
   ]
  },
  {
   "cell_type": "code",
   "execution_count": 76,
   "metadata": {},
   "outputs": [
    {
     "name": "stdout",
     "output_type": "stream",
     "text": [
      "2015-01-01 00:00:00\n",
      "2017-12-31 00:00:00\n"
     ]
    }
   ],
   "source": [
    "print(df['joining_date'].min())\n",
    "print(df['joining_date'].max())"
   ]
  },
  {
   "cell_type": "markdown",
   "metadata": {},
   "source": [
    "joining dates of 3 years"
   ]
  },
  {
   "cell_type": "code",
   "execution_count": 79,
   "metadata": {},
   "outputs": [
    {
     "name": "stdout",
     "output_type": "stream",
     "text": [
      "['No' '?' 'Yes']\n"
     ]
    }
   ],
   "source": [
    "# joined_through_referral\n",
    "print(df['joined_through_referral'].unique())\n"
   ]
  },
  {
   "cell_type": "code",
   "execution_count": 81,
   "metadata": {},
   "outputs": [
    {
     "name": "stdout",
     "output_type": "stream",
     "text": [
      "joined_through_referral\n",
      "?      [CID21329, CID56614, CID35062, CID29752, CID40...\n",
      "No                                            [xxxxxxxx]\n",
      "Yes    [CID12313, CID3793, CID24708, CID19275, CID108...\n",
      "Name: referral_id, dtype: object\n"
     ]
    }
   ],
   "source": [
    "print(df['referral_id'].groupby(df['joined_through_referral']).unique())"
   ]
  },
  {
   "cell_type": "code",
   "execution_count": 82,
   "metadata": {},
   "outputs": [
    {
     "data": {
      "text/html": [
       "<div>\n",
       "<style scoped>\n",
       "    .dataframe tbody tr th:only-of-type {\n",
       "        vertical-align: middle;\n",
       "    }\n",
       "\n",
       "    .dataframe tbody tr th {\n",
       "        vertical-align: top;\n",
       "    }\n",
       "\n",
       "    .dataframe thead th {\n",
       "        text-align: right;\n",
       "    }\n",
       "</style>\n",
       "<table border=\"1\" class=\"dataframe\">\n",
       "  <thead>\n",
       "    <tr style=\"text-align: right;\">\n",
       "      <th></th>\n",
       "      <th>referral_id</th>\n",
       "      <th>joined_through_referral</th>\n",
       "    </tr>\n",
       "  </thead>\n",
       "  <tbody>\n",
       "    <tr>\n",
       "      <th>561</th>\n",
       "      <td>CID22881</td>\n",
       "      <td>Yes</td>\n",
       "    </tr>\n",
       "    <tr>\n",
       "      <th>26182</th>\n",
       "      <td>CID40165</td>\n",
       "      <td>Yes</td>\n",
       "    </tr>\n",
       "    <tr>\n",
       "      <th>15676</th>\n",
       "      <td>CID2732</td>\n",
       "      <td>Yes</td>\n",
       "    </tr>\n",
       "    <tr>\n",
       "      <th>27134</th>\n",
       "      <td>CID26108</td>\n",
       "      <td>Yes</td>\n",
       "    </tr>\n",
       "    <tr>\n",
       "      <th>22533</th>\n",
       "      <td>xxxxxxxx</td>\n",
       "      <td>No</td>\n",
       "    </tr>\n",
       "    <tr>\n",
       "      <th>9393</th>\n",
       "      <td>CID49428</td>\n",
       "      <td>Yes</td>\n",
       "    </tr>\n",
       "    <tr>\n",
       "      <th>17951</th>\n",
       "      <td>CID56806</td>\n",
       "      <td>Yes</td>\n",
       "    </tr>\n",
       "    <tr>\n",
       "      <th>14787</th>\n",
       "      <td>CID12869</td>\n",
       "      <td>Yes</td>\n",
       "    </tr>\n",
       "    <tr>\n",
       "      <th>32971</th>\n",
       "      <td>CID34612</td>\n",
       "      <td>?</td>\n",
       "    </tr>\n",
       "    <tr>\n",
       "      <th>12602</th>\n",
       "      <td>xxxxxxxx</td>\n",
       "      <td>Yes</td>\n",
       "    </tr>\n",
       "    <tr>\n",
       "      <th>35728</th>\n",
       "      <td>xxxxxxxx</td>\n",
       "      <td>No</td>\n",
       "    </tr>\n",
       "    <tr>\n",
       "      <th>14200</th>\n",
       "      <td>xxxxxxxx</td>\n",
       "      <td>No</td>\n",
       "    </tr>\n",
       "    <tr>\n",
       "      <th>8860</th>\n",
       "      <td>xxxxxxxx</td>\n",
       "      <td>Yes</td>\n",
       "    </tr>\n",
       "    <tr>\n",
       "      <th>14558</th>\n",
       "      <td>xxxxxxxx</td>\n",
       "      <td>No</td>\n",
       "    </tr>\n",
       "    <tr>\n",
       "      <th>33924</th>\n",
       "      <td>CID9332</td>\n",
       "      <td>?</td>\n",
       "    </tr>\n",
       "    <tr>\n",
       "      <th>28069</th>\n",
       "      <td>xxxxxxxx</td>\n",
       "      <td>No</td>\n",
       "    </tr>\n",
       "    <tr>\n",
       "      <th>12966</th>\n",
       "      <td>xxxxxxxx</td>\n",
       "      <td>No</td>\n",
       "    </tr>\n",
       "    <tr>\n",
       "      <th>6364</th>\n",
       "      <td>xxxxxxxx</td>\n",
       "      <td>No</td>\n",
       "    </tr>\n",
       "    <tr>\n",
       "      <th>2887</th>\n",
       "      <td>CID53389</td>\n",
       "      <td>?</td>\n",
       "    </tr>\n",
       "    <tr>\n",
       "      <th>16061</th>\n",
       "      <td>xxxxxxxx</td>\n",
       "      <td>No</td>\n",
       "    </tr>\n",
       "    <tr>\n",
       "      <th>19263</th>\n",
       "      <td>xxxxxxxx</td>\n",
       "      <td>No</td>\n",
       "    </tr>\n",
       "    <tr>\n",
       "      <th>30490</th>\n",
       "      <td>xxxxxxxx</td>\n",
       "      <td>No</td>\n",
       "    </tr>\n",
       "    <tr>\n",
       "      <th>29479</th>\n",
       "      <td>xxxxxxxx</td>\n",
       "      <td>No</td>\n",
       "    </tr>\n",
       "    <tr>\n",
       "      <th>16503</th>\n",
       "      <td>CID28917</td>\n",
       "      <td>?</td>\n",
       "    </tr>\n",
       "    <tr>\n",
       "      <th>17843</th>\n",
       "      <td>CID15782</td>\n",
       "      <td>?</td>\n",
       "    </tr>\n",
       "    <tr>\n",
       "      <th>23799</th>\n",
       "      <td>CID41404</td>\n",
       "      <td>Yes</td>\n",
       "    </tr>\n",
       "    <tr>\n",
       "      <th>952</th>\n",
       "      <td>CID18794</td>\n",
       "      <td>Yes</td>\n",
       "    </tr>\n",
       "    <tr>\n",
       "      <th>13816</th>\n",
       "      <td>xxxxxxxx</td>\n",
       "      <td>No</td>\n",
       "    </tr>\n",
       "    <tr>\n",
       "      <th>19711</th>\n",
       "      <td>xxxxxxxx</td>\n",
       "      <td>No</td>\n",
       "    </tr>\n",
       "    <tr>\n",
       "      <th>10487</th>\n",
       "      <td>xxxxxxxx</td>\n",
       "      <td>No</td>\n",
       "    </tr>\n",
       "  </tbody>\n",
       "</table>\n",
       "</div>"
      ],
      "text/plain": [
       "      referral_id joined_through_referral\n",
       "561      CID22881                     Yes\n",
       "26182    CID40165                     Yes\n",
       "15676     CID2732                     Yes\n",
       "27134    CID26108                     Yes\n",
       "22533    xxxxxxxx                      No\n",
       "9393     CID49428                     Yes\n",
       "17951    CID56806                     Yes\n",
       "14787    CID12869                     Yes\n",
       "32971    CID34612                       ?\n",
       "12602    xxxxxxxx                     Yes\n",
       "35728    xxxxxxxx                      No\n",
       "14200    xxxxxxxx                      No\n",
       "8860     xxxxxxxx                     Yes\n",
       "14558    xxxxxxxx                      No\n",
       "33924     CID9332                       ?\n",
       "28069    xxxxxxxx                      No\n",
       "12966    xxxxxxxx                      No\n",
       "6364     xxxxxxxx                      No\n",
       "2887     CID53389                       ?\n",
       "16061    xxxxxxxx                      No\n",
       "19263    xxxxxxxx                      No\n",
       "30490    xxxxxxxx                      No\n",
       "29479    xxxxxxxx                      No\n",
       "16503    CID28917                       ?\n",
       "17843    CID15782                       ?\n",
       "23799    CID41404                     Yes\n",
       "952      CID18794                     Yes\n",
       "13816    xxxxxxxx                      No\n",
       "19711    xxxxxxxx                      No\n",
       "10487    xxxxxxxx                      No"
      ]
     },
     "execution_count": 82,
     "metadata": {},
     "output_type": "execute_result"
    }
   ],
   "source": [
    "df[['referral_id', 'joined_through_referral']].sample(30)"
   ]
  },
  {
   "cell_type": "code",
   "execution_count": 94,
   "metadata": {},
   "outputs": [
    {
     "data": {
      "text/plain": [
       "'CID21329'"
      ]
     },
     "execution_count": 94,
     "metadata": {},
     "output_type": "execute_result"
    }
   ],
   "source": [
    "df['referral_id'].iloc[1]"
   ]
  },
  {
   "cell_type": "code",
   "execution_count": 99,
   "metadata": {},
   "outputs": [
    {
     "name": "stderr",
     "output_type": "stream",
     "text": [
      "/var/folders/j_/q313_db90837xdp_yhd1p0g00000gn/T/ipykernel_14293/71707630.py:3: SettingWithCopyWarning: \n",
      "A value is trying to be set on a copy of a slice from a DataFrame\n",
      "\n",
      "See the caveats in the documentation: https://pandas.pydata.org/pandas-docs/stable/user_guide/indexing.html#returning-a-view-versus-a-copy\n",
      "  df['CID'][df['CID'].str.startswith('CID')] = 'CID'\n"
     ]
    }
   ],
   "source": [
    "df['referral_id'][df['referral_id'].str.startswith('CID')]\n",
    "df['CID'] = df['referral_id']\n",
    "df['CID'][df['CID'].str.startswith('CID')] = 'CID'"
   ]
  },
  {
   "cell_type": "code",
   "execution_count": 100,
   "metadata": {},
   "outputs": [
    {
     "data": {
      "text/plain": [
       "array(['xxxxxxxx', 'CID', 'No referral'], dtype=object)"
      ]
     },
     "execution_count": 100,
     "metadata": {},
     "output_type": "execute_result"
    }
   ],
   "source": [
    "df['CID'].unique()"
   ]
  },
  {
   "cell_type": "code",
   "execution_count": 101,
   "metadata": {},
   "outputs": [
    {
     "data": {
      "text/plain": [
       "<Axes: xlabel='CID', ylabel='count'>"
      ]
     },
     "execution_count": 101,
     "metadata": {},
     "output_type": "execute_result"
    },
    {
     "data": {
      "image/png": "[encoded data removed]",
      "text/plain": [
       "<Figure size 640x480 with 1 Axes>"
      ]
     },
     "metadata": {},
     "output_type": "display_data"
    }
   ],
   "source": [
    "sns.countplot(df, hue='joined_through_referral', x='CID')"
   ]
  },
  {
   "cell_type": "markdown",
   "metadata": {},
   "source": [
    "### features to be ordinal encoded after splitting:\n",
    "- membership_category \n",
    "\n",
    "### features to be further examined:\n",
    "- 'referral_id', 'joined_through_referral' \n",
    "  -> correlation between the features  \n",
    "  -> how to deal with '?' and no_referrals with a CID-number   \n",
    "  -> correlation between specific 'referral_id' and target. e.g. CID5xxx has a higher value for customer loyalty as CID1XXXX\n"
   ]
  },
  {
   "cell_type": "markdown",
   "metadata": {},
   "source": []
  }
 ],
 "metadata": {
  "kernelspec": {
   "display_name": ".venv",
   "language": "python",
   "name": "python3"
  },
  "language_info": {
   "codemirror_mode": {
    "name": "ipython",
    "version": 3
   },
   "file_extension": ".py",
   "mimetype": "text/x-python",
   "name": "python",
   "nbconvert_exporter": "python",
   "pygments_lexer": "ipython3",
   "version": "3.11.3"
  }
 },
 "nbformat": 4,
 "nbformat_minor": 2
}
